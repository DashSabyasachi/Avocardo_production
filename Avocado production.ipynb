{
 "cells": [
  {
   "cell_type": "code",
   "execution_count": null,
   "id": "e42c91d7",
   "metadata": {},
   "outputs": [
    {
     "name": "stderr",
     "output_type": "stream",
     "text": [
      "C:\\Users\\sdash\\AppData\\Local\\Temp/ipykernel_21444/54051376.py:2: UserWarning: \n",
      "The dash_core_components package is deprecated. Please replace\n",
      "`import dash_core_components as dcc` with `from dash import dcc`\n",
      "  import dash_core_components as dcc\n",
      "C:\\Users\\sdash\\AppData\\Local\\Temp/ipykernel_21444/54051376.py:3: UserWarning: \n",
      "The dash_html_components package is deprecated. Please replace\n",
      "`import dash_html_components as html` with `from dash import html`\n",
      "  import dash_html_components as html\n"
     ]
    },
    {
     "name": "stdout",
     "output_type": "stream",
     "text": [
      "Dash is running on http://127.0.0.1:8050/\n",
      "\n",
      " * Serving Flask app \"__main__\" (lazy loading)\n",
      " * Environment: production\n",
      "\u001b[31m   WARNING: This is a development server. Do not use it in a production deployment.\u001b[0m\n",
      "\u001b[2m   Use a production WSGI server instead.\u001b[0m\n",
      " * Debug mode: off\n"
     ]
    },
    {
     "name": "stderr",
     "output_type": "stream",
     "text": [
      " * Running on http://127.0.0.1:8050/ (Press CTRL+C to quit)\n",
      "127.0.0.1 - - [27/Feb/2022 18:58:06] \"GET / HTTP/1.1\" 200 -\n",
      "127.0.0.1 - - [27/Feb/2022 18:58:06] \"GET /_dash-layout HTTP/1.1\" 200 -\n",
      "127.0.0.1 - - [27/Feb/2022 18:58:06] \"GET /_dash-dependencies HTTP/1.1\" 200 -\n",
      "127.0.0.1 - - [27/Feb/2022 18:58:06] \"GET /_favicon.ico?v=2.1.0 HTTP/1.1\" 200 -\n",
      "127.0.0.1 - - [27/Feb/2022 18:58:06] \"GET /_dash-component-suites/dash/dcc/async-graph.js HTTP/1.1\" 200 -\n",
      "127.0.0.1 - - [27/Feb/2022 18:58:06] \"GET /_dash-component-suites/dash/dcc/async-dropdown.js HTTP/1.1\" 200 -\n",
      "127.0.0.1 - - [27/Feb/2022 18:58:07] \"GET /_dash-component-suites/dash/dcc/async-plotlyjs.js HTTP/1.1\" 200 -\n",
      "127.0.0.1 - - [27/Feb/2022 18:58:07] \"POST /_dash-update-component HTTP/1.1\" 200 -\n",
      "127.0.0.1 - - [27/Feb/2022 18:59:32] \"POST /_dash-update-component HTTP/1.1\" 200 -\n",
      "127.0.0.1 - - [27/Feb/2022 18:59:45] \"POST /_dash-update-component HTTP/1.1\" 200 -\n",
      "127.0.0.1 - - [27/Feb/2022 18:59:58] \"POST /_dash-update-component HTTP/1.1\" 200 -\n",
      "127.0.0.1 - - [27/Feb/2022 19:03:27] \"POST /_dash-update-component HTTP/1.1\" 200 -\n",
      "127.0.0.1 - - [27/Feb/2022 19:03:39] \"POST /_dash-update-component HTTP/1.1\" 200 -\n"
     ]
    }
   ],
   "source": [
    "import dash\n",
    "import dash_core_components as dcc\n",
    "import dash_html_components as html \n",
    "from dash.dependencies import Input, Output, State\n",
    "import pandas as pd\n",
    "import plotly.express as px\n",
    "\n",
    "avocado=pd.read_csv(r\"C:\\Users\\sdash\\Desktop\\avocado-updated-2020.csv\")\n",
    "\n",
    "app=dash.Dash()\n",
    "\n",
    "app.layout=html.Div(children=[\n",
    "    html.H1(children='Avocado Prices Dashboard'),\n",
    "    dcc.Dropdown(id='geo-dropdown',\n",
    "                options=[{'label': i, 'value': i}\n",
    "                        for i in avocado['geography'].unique()],\n",
    "                value='New York'),\n",
    "    dcc.Graph(id='price-graph')\n",
    "])\n",
    "\n",
    "@app.callback(\n",
    "Output(component_id='price-graph', component_property='figure'),\n",
    "Input(component_id='geo-dropdown', component_property='value')\n",
    ")\n",
    "def update_graph(selected_geography):\n",
    "    filtered_avocado=avocado[avocado['geography']==selected_geography]\n",
    "    line_flag=px.bar(filtered_avocado,x='year', y='average_price',title='Avocado prices in', color='type')\n",
    "    return line_flag\n",
    "if __name__ == \"__main__\":\n",
    "    app.run_server()"
   ]
  },
  {
   "cell_type": "code",
   "execution_count": null,
   "id": "e2f57634",
   "metadata": {},
   "outputs": [],
   "source": [
    "avocado=pd.read_csv(\"C:\\Users\\sdash\\Desktop\\avocado-updated-2020.csv\")"
   ]
  },
  {
   "cell_type": "code",
   "execution_count": null,
   "id": "9628772d",
   "metadata": {},
   "outputs": [],
   "source": [
    "avocado.head()\n",
    "filtered_avocado=avocado[avocado['geography']=='Las Vegas']\n",
    "line_fi=px.line(filtered_avocado,\n",
    "                   x='date', y='average_price',\n",
    "                   title='Avocado prices in \n"
   ]
  },
  {
   "cell_type": "code",
   "execution_count": null,
   "id": "46761d55",
   "metadata": {},
   "outputs": [],
   "source": [
    "px.bar(filtered_avocado,x='year', y='average_price',title='Avocado prices in', color='type')"
   ]
  },
  {
   "cell_type": "code",
   "execution_count": null,
   "id": "fe251765",
   "metadata": {},
   "outputs": [],
   "source": []
  }
 ],
 "metadata": {
  "kernelspec": {
   "display_name": "Python 3 (ipykernel)",
   "language": "python",
   "name": "python3"
  },
  "language_info": {
   "codemirror_mode": {
    "name": "ipython",
    "version": 3
   },
   "file_extension": ".py",
   "mimetype": "text/x-python",
   "name": "python",
   "nbconvert_exporter": "python",
   "pygments_lexer": "ipython3",
   "version": "3.9.7"
  }
 },
 "nbformat": 4,
 "nbformat_minor": 5
}
